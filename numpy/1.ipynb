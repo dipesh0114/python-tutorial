{
 "cells": [
  {
   "cell_type": "markdown",
   "id": "b39f3c59",
   "metadata": {},
   "source": [
    "numpy array and basics\n"
   ]
  },
  {
   "cell_type": "code",
   "execution_count": 1,
   "id": "5ca2f242",
   "metadata": {},
   "outputs": [],
   "source": [
    "import numpy as np"
   ]
  },
  {
   "cell_type": "code",
   "execution_count": 3,
   "id": "a33e4d99",
   "metadata": {},
   "outputs": [
    {
     "name": "stdout",
     "output_type": "stream",
     "text": [
      "1D Array: [1 2 3 4 5]\n",
      "2D Array:\n",
      " [[1 2 3]\n",
      " [4 5 6]]\n"
     ]
    }
   ],
   "source": [
    "arr_1d = np.array([1, 2, 3, 4, 5])\n",
    "print(\"1D Array:\", arr_1d)\n",
    "\n",
    "arr_2d = np.array([[1, 2, 3], [4, 5, 6]])\n",
    "print(\"2D Array:\\n\", arr_2d)"
   ]
  },
  {
   "cell_type": "markdown",
   "id": "ccc1bf81",
   "metadata": {},
   "source": [
    "List vs numpy array\n"
   ]
  },
  {
   "cell_type": "code",
   "execution_count": 6,
   "id": "4c88abcb",
   "metadata": {},
   "outputs": [
    {
     "name": "stdout",
     "output_type": "stream",
     "text": [
      "Python List manipulation: [1, 2, 3, 4, 5, 1, 2, 3, 4, 5]\n",
      "Numpy Array manipulation: [ 2  4  6  8 10]\n",
      "Python List Time: 0.00640869140625\n",
      "Numpy Array Time: 0.0009462833404541016\n"
     ]
    }
   ],
   "source": [
    "pylist = [1, 2, 3, 4, 5]\n",
    "print(\"Python List manipulation:\", pylist*2)\n",
    "\n",
    "np_array = np.array([1, 2, 3, 4, 5])   #element-wise operations\n",
    "print(\"Numpy Array manipulation:\", np_array*2) \n",
    "\n",
    "import time\n",
    "start = time.time()\n",
    "py_list = [i*2 for i in range(100000)]\n",
    "print(\"Python List Time:\", time.time() - start)\n",
    "start = time.time()\n",
    "py_array = np.arange(100000)*2\n",
    "print(\"Numpy Array Time:\", time.time() - start)\n"
   ]
  },
  {
   "cell_type": "markdown",
   "id": "0639757d",
   "metadata": {},
   "source": [
    "create array from scratch\n"
   ]
  },
  {
   "cell_type": "code",
   "execution_count": 14,
   "id": "e876f4c8",
   "metadata": {},
   "outputs": [
    {
     "name": "stdout",
     "output_type": "stream",
     "text": [
      "Zeros Array:\n",
      " [[0. 0. 0. 0.]\n",
      " [0. 0. 0. 0.]\n",
      " [0. 0. 0. 0.]]\n",
      "Ones Array:\n",
      " [[1. 1. 1.]\n",
      " [1. 1. 1.]]\n",
      "Full Array:\n",
      " [[7 7]\n",
      " [7 7]]\n",
      "Random Array:\n",
      " [[0.53540169 0.05646189]\n",
      " [0.66913262 0.6203567 ]]\n",
      "Sequence Array: [0 1 2 3 4 5 6 7 8 9]\n"
     ]
    }
   ],
   "source": [
    "zeros = np.zeros((3, 4))  # Create a 3x4 array of zeros\n",
    "print(\"Zeros Array:\\n\", zeros)\n",
    "\n",
    "ones = np.ones((2, 3))    # Create a 2x3 array of ones\n",
    "print(\"Ones Array:\\n\", ones)\n",
    "\n",
    "full = np.full((2, 2), 7)  # Create a 2x2 array filled with 7\n",
    "print(\"Full Array:\\n\", full)\n",
    "\n",
    "random = np.random.random((2, 2))  # Create a 2x2 array of random floats\n",
    "print(\"Random Array:\\n\", random)\n",
    "\n",
    "sequence = np.arange(10)  # Create an array with a sequence of numbers\n",
    "print(\"Sequence Array:\", sequence)"
   ]
  },
  {
   "cell_type": "markdown",
   "id": "5fb41ebf",
   "metadata": {},
   "source": [
    "Vector, Matrix and tensor"
   ]
  },
  {
   "cell_type": "code",
   "execution_count": 15,
   "id": "c83fcca0",
   "metadata": {},
   "outputs": [
    {
     "name": "stdout",
     "output_type": "stream",
     "text": [
      "Vector: [1 2 3]\n",
      "Matrix:\n",
      " [[1 2]\n",
      " [3 4]]\n",
      "Tensor:\n",
      " [[[1 2]\n",
      "  [3 4]]\n",
      "\n",
      " [[5 6]\n",
      "  [7 8]]]\n"
     ]
    }
   ],
   "source": [
    "vector = np.array([1, 2, 3])  # 1D array (vector)\n",
    "print(\"Vector:\", vector)\n",
    "\n",
    "matrix = np.array([[1, 2], [3, 4]])  # 2D array (matrix)\n",
    "print(\"Matrix:\\n\", matrix)\n",
    "\n",
    "tensor = np.array([[[1, 2], [3, 4]],\n",
    "                    [[5, 6], [7, 8]]])  # 3D array (tensor)\n",
    "print(\"Tensor:\\n\", tensor)"
   ]
  },
  {
   "cell_type": "markdown",
   "id": "6fc86d6b",
   "metadata": {},
   "source": [
    "### Array properties\n",
    "\n"
   ]
  },
  {
   "cell_type": "code",
   "execution_count": 18,
   "id": "920fab73",
   "metadata": {},
   "outputs": [
    {
     "name": "stdout",
     "output_type": "stream",
     "text": [
      "shape (2, 3)\n",
      "dimensions 2\n",
      "size 6\n",
      "dtype int64\n"
     ]
    }
   ],
   "source": [
    "arr = np.array([[1,2,3],[4,5,6]])\n",
    "print(\"shape\", arr.shape)\n",
    "print(\"dimensions\", arr.ndim)\n",
    "print(\"size\", arr.size)\n",
    "print(\"dtype\", arr.dtype)"
   ]
  },
  {
   "cell_type": "markdown",
   "id": "ee10c738",
   "metadata": {},
   "source": [
    "### Array reshaping "
   ]
  },
  {
   "cell_type": "code",
   "execution_count": 21,
   "id": "83fe4b02",
   "metadata": {},
   "outputs": [
    {
     "name": "stdout",
     "output_type": "stream",
     "text": [
      "Original Array: [ 0  1  2  3  4  5  6  7  8  9 10 11]\n",
      "Reshaped Array:\n",
      " [[ 0  1  2  3]\n",
      " [ 4  5  6  7]\n",
      " [ 8  9 10 11]]\n",
      "Flattened Array: [ 0  1  2  3  4  5  6  7  8  9 10 11]\n",
      "Raveled Array: [ 0  1  2  3  4  5  6  7  8  9 10 11]\n",
      "Transposed Array:\n",
      " [[ 0  4  8]\n",
      " [ 1  5  9]\n",
      " [ 2  6 10]\n",
      " [ 3  7 11]]\n"
     ]
    }
   ],
   "source": [
    "arr = np.arange(12)\n",
    "print(\"Original Array:\", arr)\n",
    "\n",
    "reshaped_arr = arr.reshape(3, 4)  # Reshape to 3 rows and 4 columns\n",
    "print(\"Reshaped Array:\\n\", reshaped_arr)\n",
    "\n",
    "flattened = reshaped_arr.flatten()  # Flatten the array back to 1D\n",
    "print(\"Flattened Array:\", flattened)\n",
    "\n",
    "raveled = reshaped_arr.ravel()  # Ravel the array (similar to flatten) ( returns view, instead of copy)\n",
    "print(\"Raveled Array:\", raveled)\n",
    "\n",
    "transpose = reshaped_arr.T  # Transpose the array\n",
    "print(\"Transposed Array:\\n\", transpose)"
   ]
  }
 ],
 "metadata": {
  "kernelspec": {
   "display_name": ".venv (3.13.5)",
   "language": "python",
   "name": "python3"
  },
  "language_info": {
   "codemirror_mode": {
    "name": "ipython",
    "version": 3
   },
   "file_extension": ".py",
   "mimetype": "text/x-python",
   "name": "python",
   "nbconvert_exporter": "python",
   "pygments_lexer": "ipython3",
   "version": "3.13.5"
  }
 },
 "nbformat": 4,
 "nbformat_minor": 5
}
