{
 "cells": [
  {
   "cell_type": "markdown",
   "id": "899c0764",
   "metadata": {},
   "source": [
    "### Numpy Array Operations\n"
   ]
  },
  {
   "cell_type": "code",
   "execution_count": 2,
   "id": "6068caa5",
   "metadata": {},
   "outputs": [],
   "source": [
    "import numpy as np"
   ]
  },
  {
   "cell_type": "code",
   "execution_count": 12,
   "id": "5735deb6",
   "metadata": {},
   "outputs": [
    {
     "name": "stdout",
     "output_type": "stream",
     "text": [
      "basic slicing :  [3 4 5 6 7]\n",
      "step slicing :  [2 4 6 8]\n",
      "negative slicing :  8\n"
     ]
    }
   ],
   "source": [
    "arr = np.array([1, 2, 3, 4, 5,6,7,8,9,10])\n",
    "print(\"basic slicing : \", arr[2:7])\n",
    "print(\"step slicing : \", arr[1:9:2])\n",
    "print(\"negative slicing : \", arr[-3])"
   ]
  },
  {
   "cell_type": "code",
   "execution_count": 15,
   "id": "9d7c8615",
   "metadata": {},
   "outputs": [
    {
     "name": "stdout",
     "output_type": "stream",
     "text": [
      "2D array basic slicing :  [[4 5 6]]\n",
      "2D array basic slicing :  6\n",
      "2D array step slicing :  [[1 2 3]\n",
      " [7 8 9]]\n",
      "2D array negative slicing :  [7 8 9]\n",
      "2D array slicing :  [[4 5]\n",
      " [7 8]]\n",
      "2d array slicing :  [3 6 9]\n"
     ]
    }
   ],
   "source": [
    "arr_2d = np.array([[1,2,3],\n",
    "                   [4,5,6],\n",
    "                   [7,8,9]])\n",
    "print(\"2D array basic slicing : \", arr_2d[1:2])  # Slicing rows\n",
    "print(\"2D array basic slicing : \", arr_2d[1,2])  # Slicing rows\n",
    "print(\"2D array step slicing : \", arr_2d[0:3:2])  # Slicing rows with step\n",
    "print(\"2D array negative slicing : \", arr_2d[-1])  # Last row\n",
    "print(\"2D array slicing : \", arr_2d[1:3, 0:2])  # Slicing rows and columns\n",
    "print(\"2d array slicing : \", arr_2d[:, 2])  # Slicing all rows for a specific column\n"
   ]
  },
  {
   "cell_type": "markdown",
   "id": "02244b3e",
   "metadata": {},
   "source": [
    "### Sorting"
   ]
  },
  {
   "cell_type": "code",
   "execution_count": 14,
   "id": "bdca79b1",
   "metadata": {},
   "outputs": [
    {
     "name": "stdout",
     "output_type": "stream",
     "text": [
      "Sorted array: [1 2 3 4 5 6 7 8 9]\n",
      "sorted 2d array by column:  [[2 1]\n",
      " [2 1]\n",
      " [3 3]]\n",
      "sorted 2d array by row:  [[1 3]\n",
      " [1 2]\n",
      " [2 3]]\n"
     ]
    }
   ],
   "source": [
    "unsorted = np.array([3, 1, 4, 2, 5,7,6,9,8])\n",
    "print(\"Sorted array:\", np.sort(unsorted))\n",
    "\n",
    "arr_2d_unsorted = np.array([[3,1],[2,1],[2,3]])\n",
    "print(\"sorted 2d array by column: \", np.sort(arr_2d_unsorted, axis=0))  # Sort by column\n",
    "print(\"sorted 2d array by row: \", np.sort(arr_2d_unsorted, axis=1))  # Sort by row"
   ]
  },
  {
   "cell_type": "markdown",
   "id": "7abb4cc2",
   "metadata": {},
   "source": [
    "#### Filtering"
   ]
  },
  {
   "cell_type": "code",
   "execution_count": 3,
   "id": "edc379f5",
   "metadata": {},
   "outputs": [
    {
     "name": "stdout",
     "output_type": "stream",
     "text": [
      "Even numbers: [ 2  4  6  8 10]\n"
     ]
    }
   ],
   "source": [
    "numbers = np.array([1, 2, 3, 4, 5, 6, 7, 8, 9, 10])\n",
    "even_numbers = numbers[numbers % 2 == 0]\n",
    "print(\"Even numbers:\", even_numbers)"
   ]
  },
  {
   "cell_type": "markdown",
   "id": "c025eec9",
   "metadata": {},
   "source": [
    "### Filter with mask"
   ]
  },
  {
   "cell_type": "code",
   "execution_count": 4,
   "id": "9c4320f4",
   "metadata": {},
   "outputs": [
    {
     "name": "stdout",
     "output_type": "stream",
     "text": [
      "Numbers greater than 5: [ 6  7  8  9 10]\n"
     ]
    }
   ],
   "source": [
    "mask = numbers > 5\n",
    "print(\"Numbers greater than 5:\", numbers[mask])"
   ]
  },
  {
   "cell_type": "markdown",
   "id": "889fc980",
   "metadata": {},
   "source": [
    "### Fancy indexing Vs np.where()"
   ]
  },
  {
   "cell_type": "code",
   "execution_count": 5,
   "id": "ae663472",
   "metadata": {},
   "outputs": [
    {
     "name": "stdout",
     "output_type": "stream",
     "text": [
      "Fancy indexing: [1 3 5]\n",
      "np where:  [ 6  7  8  9 10]\n"
     ]
    }
   ],
   "source": [
    "indices = [0, 2, 4]\n",
    "print(\"Fancy indexing:\", numbers[indices])\n",
    "\n",
    "where_result = np.where(numbers > 5)\n",
    "print(\"np where: \", numbers[where_result])"
   ]
  },
  {
   "cell_type": "code",
   "execution_count": 8,
   "id": "84573e92",
   "metadata": {},
   "outputs": [
    {
     "name": "stdout",
     "output_type": "stream",
     "text": [
      "np where with condition:  [ 1  2  3  4  5 24 28 32 36 40]\n"
     ]
    }
   ],
   "source": [
    "condition_array = np.where(numbers > 5, numbers *4 , numbers)\n",
    "print(\"np where with condition: \", condition_array)"
   ]
  },
  {
   "cell_type": "markdown",
   "id": "fe5b1450",
   "metadata": {},
   "source": [
    "#### Adding and removing data"
   ]
  },
  {
   "cell_type": "code",
   "execution_count": 9,
   "id": "15cff271",
   "metadata": {},
   "outputs": [
    {
     "name": "stdout",
     "output_type": "stream",
     "text": [
      "Combined array: [1 2 3 4 5 6]\n"
     ]
    }
   ],
   "source": [
    "arr1 = np.array([1, 2, 3])\n",
    "arr2 = np.array([4, 5, 6])\n",
    "\n",
    "combined = np.concatenate((arr1, arr2))\n",
    "print(\"Combined array:\", combined)"
   ]
  },
  {
   "cell_type": "markdown",
   "id": "618c41b5",
   "metadata": {},
   "source": [
    "#### array compatibility \n"
   ]
  },
  {
   "cell_type": "code",
   "execution_count": 10,
   "id": "ef3e0e42",
   "metadata": {},
   "outputs": [
    {
     "name": "stdout",
     "output_type": "stream",
     "text": [
      "Array compatibility check: True\n"
     ]
    }
   ],
   "source": [
    "a= np.array([1, 2, 3])\n",
    "b = np.array([4, 5, 6])     \n",
    "c = np.array([7, 8, 9])\n",
    "\n",
    "print(\"Array compatibility check:\", a.shape == b.shape)"
   ]
  },
  {
   "cell_type": "code",
   "execution_count": 15,
   "id": "6d334262",
   "metadata": {},
   "outputs": [
    {
     "name": "stdout",
     "output_type": "stream",
     "text": [
      "Modified array with new row and column:\n",
      " [[1 2]\n",
      " [3 4]\n",
      " [5 6]]\n",
      "Modified array with new column:\n",
      " [[1 2 7]\n",
      " [3 4 8]]\n"
     ]
    }
   ],
   "source": [
    "original = np.array([[1,2],[3,4]])\n",
    "new_row = np.array([[5,6]])\n",
    "\n",
    "modified = np.vstack((original, new_row))  # Add a new row\n",
    "\n",
    "print(\"Modified array with new row and column:\\n\", modified)    \n",
    "\n",
    "new_col = np.array([[7], [8]])\n",
    "with_new_col = np.hstack((original, new_col))  # Add a new column\n",
    "print(\"Modified array with new column:\\n\", with_new_col)\n",
    "\n",
    "\n",
    "\n"
   ]
  },
  {
   "cell_type": "code",
   "execution_count": 16,
   "id": "f9651d86",
   "metadata": {},
   "outputs": [
    {
     "name": "stdout",
     "output_type": "stream",
     "text": [
      "Array after deletion: [1 2 4 5]\n"
     ]
    }
   ],
   "source": [
    "arr = np.array([1, 2, 3, 4, 5])\n",
    "deleted = np.delete(arr, 2)  # Delete element at index 2\n",
    "print(\"Array after deletion:\", deleted)"
   ]
  }
 ],
 "metadata": {
  "kernelspec": {
   "display_name": ".venv (3.13.5)",
   "language": "python",
   "name": "python3"
  },
  "language_info": {
   "codemirror_mode": {
    "name": "ipython",
    "version": 3
   },
   "file_extension": ".py",
   "mimetype": "text/x-python",
   "name": "python",
   "nbconvert_exporter": "python",
   "pygments_lexer": "ipython3",
   "version": "3.13.5"
  }
 },
 "nbformat": 4,
 "nbformat_minor": 5
}
